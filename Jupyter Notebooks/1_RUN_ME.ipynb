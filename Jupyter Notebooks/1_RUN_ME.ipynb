{
 "cells": [
  {
   "cell_type": "markdown",
   "metadata": {},
   "source": [
    "# ETL Project"
   ]
  },
  {
   "cell_type": "markdown",
   "metadata": {},
   "source": [
    "## Create Postgres Database"
   ]
  },
  {
   "cell_type": "markdown",
   "metadata": {},
   "source": [
    "1. - Create a `Postgres` Database with the name `ETL_db`\n",
    "2. - Update the `config.py`file with your connection data to your `Postgres` database\n",
    "3. - Run this `Notebook`only\n",
    "\n",
    "#### Notes:\n",
    "- The code drop the tables in the database `ETL_db` if existed and upload all the information again\n",
    "- No other notebook or code needs to be run"
   ]
  },
  {
   "cell_type": "markdown",
   "metadata": {},
   "source": [
    "## Call the notebook to create the Schema"
   ]
  },
  {
   "cell_type": "code",
   "execution_count": 13,
   "metadata": {},
   "outputs": [
    {
     "name": "stdout",
     "output_type": "stream",
     "text": [
      "The tables: ['Hum_Dev_Ind', 'Economic', 'Suicide'] were created\n"
     ]
    }
   ],
   "source": [
    "%run ./2_create_tables.ipynb\n",
    "create_tables()"
   ]
  },
  {
   "cell_type": "markdown",
   "metadata": {},
   "source": [
    "## Call the notebooks to consult the csv file and load it to the Database"
   ]
  },
  {
   "cell_type": "markdown",
   "metadata": {},
   "source": [
    "### Human Development Index"
   ]
  },
  {
   "cell_type": "code",
   "execution_count": 14,
   "metadata": {},
   "outputs": [
    {
     "name": "stdout",
     "output_type": "stream",
     "text": [
      "All the human-development-index data was uploaded to the database:\n",
      "       Country  Year human_dev_ind\n",
      "0  Afghanistan  2000            ..\n",
      "1  Afghanistan  2005         0.408\n",
      "2  Afghanistan  2010         0.463\n",
      "3  Afghanistan  2015         0.493\n",
      "4  Afghanistan  2016         0.494\n"
     ]
    }
   ],
   "source": [
    "%run ./3_human_dev_ind.ipynb"
   ]
  },
  {
   "cell_type": "markdown",
   "metadata": {},
   "source": [
    "### Economic"
   ]
  },
  {
   "cell_type": "code",
   "execution_count": 15,
   "metadata": {},
   "outputs": [
    {
     "name": "stdout",
     "output_type": "stream",
     "text": [
      "All the economic data was uploaded to the database:\n",
      "       Country  Year        GDP growth     Inflation\n",
      "0  Afghanistan  2000                 0             0\n",
      "1  Afghanistan  2005  11.1752702416587   12.68626872\n",
      "2  Afghanistan  2010  8.43329048161792   0.892536936\n",
      "3  Afghanistan  2015  1.31004040372002  -1.533846583\n",
      "4  Afghanistan  2016  2.36671191565063   2.169452176\n"
     ]
    }
   ],
   "source": [
    "%run ./4_economic.ipynb"
   ]
  },
  {
   "cell_type": "markdown",
   "metadata": {},
   "source": [
    "### Suicide"
   ]
  },
  {
   "cell_type": "code",
   "execution_count": 16,
   "metadata": {},
   "outputs": [
    {
     "name": "stdout",
     "output_type": "stream",
     "text": [
      "All the suicide data was uploaded to the database:\n",
      "       Country  Year  Suicide_Rate_Female  Suicide_Rate_Male\n",
      "0  Afghanistan  2000                  1.0               10.0\n",
      "1  Afghanistan  2005                  1.5               10.8\n",
      "2  Afghanistan  2010                  1.4                8.6\n",
      "3  Afghanistan  2015                  1.5                7.8\n",
      "4  Afghanistan  2016                  1.5                7.6\n"
     ]
    }
   ],
   "source": [
    "%run ./5_suicide.ipynb"
   ]
  },
  {
   "cell_type": "markdown",
   "metadata": {},
   "source": [
    "### Consult the Final Queries to Answer the Questions"
   ]
  },
  {
   "cell_type": "code",
   "execution_count": 17,
   "metadata": {},
   "outputs": [
    {
     "name": "stdout",
     "output_type": "stream",
     "text": [
      "select \"Economic\".\"Country\",\n",
      "        \"Economic\".\"Year\",\n",
      "        \"Economic\".\"GDP growth\" as \"GDP Growth\",\n",
      "        \"Economic\".\"Inflation\",\n",
      "        \"Suicide\".\"Suicide_Rate_Female\",\n",
      "        \"Suicide\".\"Suicide_Rate_Male\",\n",
      "        \"Hum_Dev_Ind\".\"human_dev_ind\" as \"Human Development Index\"\n",
      "        from \"Economic\"\n",
      "        join \"Suicide\"\n",
      "        on \"Economic\".\"Country\" = \"Suicide\".\"Country\" and \"Economic\".\"Year\" = \"Suicide\".\"Year\" \n",
      "        join \"Hum_Dev_Ind\"\n",
      "        on \"Suicide\".\"Country\" = \"Hum_Dev_Ind\".\"Country\" and \"Suicide\".\"Year\" = \"Hum_Dev_Ind\".\"Year\" \n",
      "    \n"
     ]
    },
    {
     "data": {
      "text/html": [
       "<div>\n",
       "<style scoped>\n",
       "    .dataframe tbody tr th:only-of-type {\n",
       "        vertical-align: middle;\n",
       "    }\n",
       "\n",
       "    .dataframe tbody tr th {\n",
       "        vertical-align: top;\n",
       "    }\n",
       "\n",
       "    .dataframe thead th {\n",
       "        text-align: right;\n",
       "    }\n",
       "</style>\n",
       "<table border=\"1\" class=\"dataframe\">\n",
       "  <thead>\n",
       "    <tr style=\"text-align: right;\">\n",
       "      <th></th>\n",
       "      <th>Country</th>\n",
       "      <th>Year</th>\n",
       "      <th>GDP Growth</th>\n",
       "      <th>Inflation</th>\n",
       "      <th>Suicide_Rate_Female</th>\n",
       "      <th>Suicide_Rate_Male</th>\n",
       "      <th>Human Development Index</th>\n",
       "    </tr>\n",
       "  </thead>\n",
       "  <tbody>\n",
       "    <tr>\n",
       "      <td>0</td>\n",
       "      <td>Afghanistan</td>\n",
       "      <td>2000</td>\n",
       "      <td>0</td>\n",
       "      <td>0</td>\n",
       "      <td>1.0</td>\n",
       "      <td>10.0</td>\n",
       "      <td>..</td>\n",
       "    </tr>\n",
       "    <tr>\n",
       "      <td>1</td>\n",
       "      <td>Afghanistan</td>\n",
       "      <td>2005</td>\n",
       "      <td>11.1752702416587</td>\n",
       "      <td>12.68626872</td>\n",
       "      <td>1.5</td>\n",
       "      <td>10.8</td>\n",
       "      <td>0.408</td>\n",
       "    </tr>\n",
       "    <tr>\n",
       "      <td>2</td>\n",
       "      <td>Afghanistan</td>\n",
       "      <td>2010</td>\n",
       "      <td>8.43329048161792</td>\n",
       "      <td>0.892536936</td>\n",
       "      <td>1.4</td>\n",
       "      <td>8.6</td>\n",
       "      <td>0.463</td>\n",
       "    </tr>\n",
       "    <tr>\n",
       "      <td>3</td>\n",
       "      <td>Afghanistan</td>\n",
       "      <td>2015</td>\n",
       "      <td>1.31004040372002</td>\n",
       "      <td>-1.533846583</td>\n",
       "      <td>1.5</td>\n",
       "      <td>7.8</td>\n",
       "      <td>0.493</td>\n",
       "    </tr>\n",
       "    <tr>\n",
       "      <td>4</td>\n",
       "      <td>Afghanistan</td>\n",
       "      <td>2016</td>\n",
       "      <td>2.36671191565063</td>\n",
       "      <td>2.169452176</td>\n",
       "      <td>1.5</td>\n",
       "      <td>7.6</td>\n",
       "      <td>0.494</td>\n",
       "    </tr>\n",
       "  </tbody>\n",
       "</table>\n",
       "</div>"
      ],
      "text/plain": [
       "       Country  Year        GDP Growth     Inflation  Suicide_Rate_Female  \\\n",
       "0  Afghanistan  2000                 0             0                  1.0   \n",
       "1  Afghanistan  2005  11.1752702416587   12.68626872                  1.5   \n",
       "2  Afghanistan  2010  8.43329048161792   0.892536936                  1.4   \n",
       "3  Afghanistan  2015  1.31004040372002  -1.533846583                  1.5   \n",
       "4  Afghanistan  2016  2.36671191565063   2.169452176                  1.5   \n",
       "\n",
       "   Suicide_Rate_Male Human Development Index  \n",
       "0               10.0                      ..  \n",
       "1               10.8                   0.408  \n",
       "2                8.6                   0.463  \n",
       "3                7.8                   0.493  \n",
       "4                7.6                   0.494  "
      ]
     },
     "execution_count": 17,
     "metadata": {},
     "output_type": "execute_result"
    }
   ],
   "source": [
    "%run ./6_etl_result.ipynb\n",
    "final_query.head()"
   ]
  },
  {
   "cell_type": "code",
   "execution_count": null,
   "metadata": {},
   "outputs": [],
   "source": []
  }
 ],
 "metadata": {
  "kernelspec": {
   "display_name": "Python 3",
   "language": "python",
   "name": "python3"
  },
  "language_info": {
   "codemirror_mode": {
    "name": "ipython",
    "version": 3
   },
   "file_extension": ".py",
   "mimetype": "text/x-python",
   "name": "python",
   "nbconvert_exporter": "python",
   "pygments_lexer": "ipython3",
   "version": "3.7.3"
  }
 },
 "nbformat": 4,
 "nbformat_minor": 2
}
