{
 "cells": [
  {
   "cell_type": "markdown",
   "metadata": {},
   "source": [
    "# ELT Result"
   ]
  },
  {
   "cell_type": "markdown",
   "metadata": {},
   "source": [
    "### Import dependencies"
   ]
  },
  {
   "cell_type": "code",
   "execution_count": 22,
   "metadata": {},
   "outputs": [],
   "source": [
    "import pandas as pd\n",
    "from sqlalchemy import create_engine\n",
    "from config import (ServerName, UserName, Password, port, DataBase)\n",
    "import psycopg2\n",
    "\n",
    "\n",
    "def getData(sql):\n",
    "    engine = create_engine(f'postgres+psycopg2://{UserName}:{Password}@{ServerName}:{port}/{DataBase}')\n",
    "    df_query = pd.read_sql(sql, engine)\n",
    "    return df_query"
   ]
  },
  {
   "cell_type": "markdown",
   "metadata": {},
   "source": [
    "### Database Queries"
   ]
  },
  {
   "cell_type": "code",
   "execution_count": null,
   "metadata": {},
   "outputs": [],
   "source": []
  },
  {
   "cell_type": "code",
   "execution_count": 23,
   "metadata": {},
   "outputs": [
    {
     "name": "stdout",
     "output_type": "stream",
     "text": [
      "select \"Economic\".\"Country\",\n",
      "        \"Economic\".\"Year\",\n",
      "        \"Economic\".\"GDP growth\" as \"GDP Growth\",\n",
      "        \"Economic\".\"Inflation\",\n",
      "        \"Suicide\".\"Suicide_Rate_Female\",\n",
      "        \"Suicide\".\"Suicide_Rate_Male\",\n",
      "        \"Hum_Dev_Ind\".\"human_dev_ind\" as \"Human Development Index\"\n",
      "        from \"Economic\"\n",
      "        join \"Suicide\"\n",
      "        on \"Economic\".\"Country\" = \"Suicide\".\"Country\" and \"Economic\".\"Year\" = \"Suicide\".\"Year\" \n",
      "        join \"Hum_Dev_Ind\"\n",
      "        on \"Suicide\".\"Country\" = \"Hum_Dev_Ind\".\"Country\" and \"Suicide\".\"Year\" = \"Hum_Dev_Ind\".\"Year\" \n",
      "    \n"
     ]
    }
   ],
   "source": [
    "sql = \"\"\"select \"Economic\".\"Country\",\n",
    "        \"Economic\".\"Year\",\n",
    "        \"Economic\".\"GDP growth\" as \"GDP Growth\",\n",
    "        \"Economic\".\"Inflation\",\n",
    "        \"Suicide\".\"Suicide_Rate_Female\",\n",
    "        \"Suicide\".\"Suicide_Rate_Male\",\n",
    "        \"Hum_Dev_Ind\".\"human_dev_ind\" as \"Human Development Index\"\n",
    "        from \"Economic\"\n",
    "        join \"Suicide\"\n",
    "        on \"Economic\".\"Country\" = \"Suicide\".\"Country\" and \"Economic\".\"Year\" = \"Suicide\".\"Year\" \n",
    "        join \"Hum_Dev_Ind\"\n",
    "        on \"Suicide\".\"Country\" = \"Hum_Dev_Ind\".\"Country\" and \"Suicide\".\"Year\" = \"Hum_Dev_Ind\".\"Year\" \n",
    "    \"\"\"\n",
    "final_query = getData(sql)\n",
    "print (sql)"
   ]
  },
  {
   "cell_type": "markdown",
   "metadata": {},
   "source": [
    "#### What are the Top 10 Countries for highest suicide rates for males in 2016?"
   ]
  },
  {
   "cell_type": "code",
   "execution_count": 24,
   "metadata": {},
   "outputs": [
    {
     "name": "stdout",
     "output_type": "stream",
     "text": [
      "--- Top 10 Suicide Rate by Country for Males in 2016\n",
      "        select \"Country\",\"Year\",\"Suicide_Rate_Male\" from \"Suicide\" \n",
      "        where \"Year\"=2016\n",
      "        order by \"Suicide_Rate_Male\" desc\n",
      "        limit 10;\n",
      "    \n"
     ]
    }
   ],
   "source": [
    "sql = \"\"\"--- Top 10 Suicide Rate by Country for Males in 2016\n",
    "        select \"Country\",\"Year\",\"Suicide_Rate_Male\" from \"Suicide\" \n",
    "        where \"Year\"=2016\n",
    "        order by \"Suicide_Rate_Male\" desc\n",
    "        limit 10;\n",
    "    \"\"\"\n",
    "top_males_2016 = getData(sql)\n",
    "print (sql)"
   ]
  },
  {
   "cell_type": "markdown",
   "metadata": {},
   "source": [
    "#### What are the Top 10 Countries for highest suicide rates for females in 2016?"
   ]
  },
  {
   "cell_type": "code",
   "execution_count": 25,
   "metadata": {},
   "outputs": [
    {
     "name": "stdout",
     "output_type": "stream",
     "text": [
      "--- Top 10 Suicide Rate by Country for Females in 2016\n",
      "        select \"Country\",\"Year\",\"Suicide_Rate_Female\" from \"Suicide\" \n",
      "        where \"Year\"=2016\n",
      "        order by \"Suicide_Rate_Female\" desc\n",
      "        limit 10\n",
      "    \n"
     ]
    }
   ],
   "source": [
    "sql = \"\"\"--- Top 10 Suicide Rate by Country for Females in 2016\n",
    "        select \"Country\",\"Year\",\"Suicide_Rate_Female\" from \"Suicide\" \n",
    "        where \"Year\"=2016\n",
    "        order by \"Suicide_Rate_Female\" desc\n",
    "        limit 10\n",
    "    \"\"\"\n",
    "top_female_2016 = getData(sql)\n",
    "print (sql)"
   ]
  },
  {
   "cell_type": "markdown",
   "metadata": {},
   "source": [
    "#### What are the suicide rates for males in countries with the lowest GDP growth in 2016?"
   ]
  },
  {
   "cell_type": "code",
   "execution_count": 26,
   "metadata": {},
   "outputs": [
    {
     "name": "stdout",
     "output_type": "stream",
     "text": [
      "--- Suicide Rate for Males among Countries with lowest GDP growth\n",
      "        select * \n",
      "        from (select s.\"Country\",s.\"Year\",s.\"Suicide_Rate_Male\", e.\"GDP growth\"\n",
      "        from \"Suicide\" as s\n",
      "        join \"Economic\" as e\n",
      "        on (s.\"Country\"=e.\"Country\") and (s.\"Year\"=e.\"Year\")) as c\n",
      "        where c.\"Year\"=2016\n",
      "        order by c.\"GDP growth\"\n",
      "        limit 20;\n",
      "    \n"
     ]
    }
   ],
   "source": [
    "sql = \"\"\"--- Suicide Rate for Males among Countries with lowest GDP growth\n",
    "        select * \n",
    "        from (select s.\"Country\",s.\"Year\",s.\"Suicide_Rate_Male\", e.\"GDP growth\"\n",
    "        from \"Suicide\" as s\n",
    "        join \"Economic\" as e\n",
    "        on (s.\"Country\"=e.\"Country\") and (s.\"Year\"=e.\"Year\")) as c\n",
    "        where c.\"Year\"=2016\n",
    "        order by c.\"GDP growth\"\n",
    "        limit 20;\n",
    "    \"\"\"\n",
    "low_gdp_2016 = getData(sql)\n",
    "print (sql)"
   ]
  },
  {
   "cell_type": "markdown",
   "metadata": {},
   "source": [
    "#### What are the suicide rates for males and females in countries with the lowest HDI in 2016?"
   ]
  },
  {
   "cell_type": "code",
   "execution_count": 27,
   "metadata": {},
   "outputs": [
    {
     "name": "stdout",
     "output_type": "stream",
     "text": [
      "--- Suide Rates among Countries with lowest HDI\n",
      "            select * \n",
      "            from (select s.\"Country\",s.\"Year\",s.\"Suicide_Rate_Male\",s.\"Suicide_Rate_Female\", h.\"human_dev_ind\"\n",
      "            from \"Suicide\" as s\n",
      "            join \"Hum_Dev_Ind\" as h\n",
      "            on (s.\"Country\"=h.\"Country\") and (s.\"Year\"=h.\"Year\")) as cb\n",
      "            where cb.\"Year\"=2016\n",
      "            order by cb.\"human_dev_ind\"\n",
      "            limit 20;\n",
      "    \n"
     ]
    }
   ],
   "source": [
    "sql = \"\"\"--- Suide Rates among Countries with lowest HDI\n",
    "            select * \n",
    "            from (select s.\"Country\",s.\"Year\",s.\"Suicide_Rate_Male\",s.\"Suicide_Rate_Female\", h.\"human_dev_ind\"\n",
    "            from \"Suicide\" as s\n",
    "            join \"Hum_Dev_Ind\" as h\n",
    "            on (s.\"Country\"=h.\"Country\") and (s.\"Year\"=h.\"Year\")) as cb\n",
    "            where cb.\"Year\"=2016\n",
    "            order by cb.\"human_dev_ind\"\n",
    "            limit 20;\n",
    "    \"\"\"\n",
    "low_gdp_2016 = getData(sql)\n",
    "print (sql)"
   ]
  },
  {
   "cell_type": "markdown",
   "metadata": {},
   "source": [
    "#### What are the global averages for suicides rates for males and females?"
   ]
  },
  {
   "cell_type": "code",
   "execution_count": 28,
   "metadata": {},
   "outputs": [
    {
     "name": "stdout",
     "output_type": "stream",
     "text": [
      "--- Global Suicide Rate for Males and Females\n",
      "        select \"Year\",avg(\"Suicide_Rate_Male\") as \"Male Avg Suicide Rate\",\n",
      "        avg(\"Suicide_Rate_Female\") as \"Female Avg Suicde Rate\"\n",
      "        from \"Suicide\"\n",
      "        group by \"Year\"\n",
      "        order by \"Year\";\n",
      "    \n"
     ]
    }
   ],
   "source": [
    "sql = \"\"\"--- Global Suicide Rate for Males and Females\n",
    "        select \"Year\",avg(\"Suicide_Rate_Male\") as \"Male Avg Suicide Rate\",\n",
    "        avg(\"Suicide_Rate_Female\") as \"Female Avg Suicde Rate\"\n",
    "        from \"Suicide\"\n",
    "        group by \"Year\"\n",
    "        order by \"Year\";\n",
    "    \"\"\"\n",
    "low_gdp_2016 = getData(sql)\n",
    "print (sql)"
   ]
  },
  {
   "cell_type": "markdown",
   "metadata": {},
   "source": [
    "#### What are the suicide rates for males and females in countries with the highest inflation in 2016?"
   ]
  },
  {
   "cell_type": "code",
   "execution_count": 29,
   "metadata": {},
   "outputs": [
    {
     "name": "stdout",
     "output_type": "stream",
     "text": [
      "--- Suide Rates among Countries with highest Inflation\n",
      "            select * \n",
      "            from (select s.\"Country\",s.\"Year\",s.\"Suicide_Rate_Male\",s.\"Suicide_Rate_Female\" , e.\"Inflation\"\n",
      "            from \"Suicide\" as s\n",
      "            join \"Economic\" as e\n",
      "            on (s.\"Country\"=e.\"Country\") and (s.\"Year\"=e.\"Year\")) as c\n",
      "            where c.\"Year\"=2016\n",
      "            order by c.\"Inflation\" desc\n",
      "            limit 20;\n",
      "    \n"
     ]
    }
   ],
   "source": [
    "sql = \"\"\"--- Suide Rates among Countries with highest Inflation\n",
    "            select * \n",
    "            from (select s.\"Country\",s.\"Year\",s.\"Suicide_Rate_Male\",s.\"Suicide_Rate_Female\" , e.\"Inflation\"\n",
    "            from \"Suicide\" as s\n",
    "            join \"Economic\" as e\n",
    "            on (s.\"Country\"=e.\"Country\") and (s.\"Year\"=e.\"Year\")) as c\n",
    "            where c.\"Year\"=2016\n",
    "            order by c.\"Inflation\" desc\n",
    "            limit 20;\n",
    "    \"\"\"\n",
    "low_gdp_2016 = getData(sql)\n",
    "print (sql)"
   ]
  },
  {
   "cell_type": "code",
   "execution_count": null,
   "metadata": {},
   "outputs": [],
   "source": []
  }
 ],
 "metadata": {
  "kernelspec": {
   "display_name": "Python 3",
   "language": "python",
   "name": "python3"
  },
  "language_info": {
   "codemirror_mode": {
    "name": "ipython",
    "version": 3
   },
   "file_extension": ".py",
   "mimetype": "text/x-python",
   "name": "python",
   "nbconvert_exporter": "python",
   "pygments_lexer": "ipython3",
   "version": "3.7.3"
  }
 },
 "nbformat": 4,
 "nbformat_minor": 2
}
