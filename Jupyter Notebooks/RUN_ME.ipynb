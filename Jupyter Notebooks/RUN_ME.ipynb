{
 "cells": [
  {
   "cell_type": "markdown",
   "metadata": {},
   "source": [
    "# ETL Project"
   ]
  },
  {
   "cell_type": "markdown",
   "metadata": {},
   "source": [
    "## Create Postgres Database"
   ]
  },
  {
   "cell_type": "markdown",
   "metadata": {},
   "source": [
    "1. - Create a `Postgres` Database with the name `ETL_db`\n",
    "2. - Update the `config.py`file with your connection data to your `Postgres` database\n",
    "3. - Run this `Notebook`only\n",
    "\n",
    "#### Notes:\n",
    "- The code drop the tables in the database `ETL_db` if existed and upload all the information again\n",
    "- No other notebook or code needs to be run"
   ]
  },
  {
   "cell_type": "markdown",
   "metadata": {},
   "source": [
    "## Call the notebook to create the Schema"
   ]
  },
  {
   "cell_type": "code",
   "execution_count": 2,
   "metadata": {},
   "outputs": [
    {
     "name": "stdout",
     "output_type": "stream",
     "text": [
      "The tables: ['Hum_Dev_Ind', 'Economic', 'Suicide'] were created\n"
     ]
    }
   ],
   "source": [
    "%run ./create_tables.ipynb\n",
    "create_tables()"
   ]
  },
  {
   "cell_type": "markdown",
   "metadata": {},
   "source": [
    "## Call the notebooks to consult the csv file and load it to the Database"
   ]
  },
  {
   "cell_type": "markdown",
   "metadata": {},
   "source": [
    "### Human Development Index"
   ]
  },
  {
   "cell_type": "code",
   "execution_count": 3,
   "metadata": {},
   "outputs": [
    {
     "name": "stdout",
     "output_type": "stream",
     "text": [
      "All the human-development-index data was uploaded to the database:\n",
      "       Country  Year human_dev_ind\n",
      "0  Afghanistan  2000            ..\n",
      "1  Afghanistan  2005         0.408\n",
      "2  Afghanistan  2010         0.463\n",
      "3  Afghanistan  2015         0.493\n",
      "4  Afghanistan  2016         0.494\n"
     ]
    }
   ],
   "source": [
    "%run ./human_dev_ind.ipynb"
   ]
  },
  {
   "cell_type": "markdown",
   "metadata": {},
   "source": [
    "### Economic"
   ]
  },
  {
   "cell_type": "code",
   "execution_count": 4,
   "metadata": {},
   "outputs": [
    {
     "name": "stdout",
     "output_type": "stream",
     "text": [
      "All the economic data was uploaded to the database:\n",
      "       Country  Year        GDP growth     Inflation\n",
      "0  Afghanistan  2000                 0             0\n",
      "1  Afghanistan  2005  11.1752702416587   12.68626872\n",
      "2  Afghanistan  2010  8.43329048161792   0.892536936\n",
      "3  Afghanistan  2015  1.31004040372002  -1.533846583\n",
      "4  Afghanistan  2016  2.36671191565063   2.169452176\n"
     ]
    }
   ],
   "source": [
    "%run ./economic.ipynb"
   ]
  },
  {
   "cell_type": "markdown",
   "metadata": {},
   "source": [
    "### Suicide"
   ]
  },
  {
   "cell_type": "code",
   "execution_count": 5,
   "metadata": {},
   "outputs": [
    {
     "name": "stdout",
     "output_type": "stream",
     "text": [
      "All the suicide data was uploaded to the database:\n",
      "       Country  Year  Suicide_Rate_Female  Suicide_Rate_Male\n",
      "0  Afghanistan  2000                  1.0               10.0\n",
      "1  Afghanistan  2005                  1.5               10.8\n",
      "2  Afghanistan  2010                  1.4                8.6\n",
      "3  Afghanistan  2015                  1.5                7.8\n",
      "4  Afghanistan  2016                  1.5                7.6\n"
     ]
    }
   ],
   "source": [
    "%run ./suicide.ipynb"
   ]
  },
  {
   "cell_type": "markdown",
   "metadata": {},
   "source": [
    "### Consult the Final Query"
   ]
  },
  {
   "cell_type": "code",
   "execution_count": 6,
   "metadata": {},
   "outputs": [
    {
     "name": "stdout",
     "output_type": "stream",
     "text": [
      "select \"Economic\".\"Country\",\n",
      "        \"Economic\".\"Year\",\n",
      "        \"Economic\".\"GDP growth\" as \"GDP Growth\",\n",
      "        \"Economic\".\"Inflation\",\n",
      "        \"Suicide\".\"Suicide_Rate_Female\",\n",
      "        \"Suicide\".\"Suicide_Rate_Male\",\n",
      "        \"Hum_Dev_Ind\".\"human_dev_ind\" as \"Human Development Index\"\n",
      "        from \"Economic\"\n",
      "        join \"Suicide\"\n",
      "        on \"Economic\".\"Country\" = \"Suicide\".\"Country\" and \"Economic\".\"Year\" = \"Suicide\".\"Year\" \n",
      "        join \"Hum_Dev_Ind\"\n",
      "        on \"Suicide\".\"Country\" = \"Hum_Dev_Ind\".\"Country\" and \"Suicide\".\"Year\" = \"Hum_Dev_Ind\".\"Year\" \n",
      "    \n",
      "         Country  Year         GDP Growth     Inflation  Suicide_Rate_Female  \\\n",
      "0    Afghanistan  2000                  0             0                  1.0   \n",
      "1    Afghanistan  2005   11.1752702416587   12.68626872                  1.5   \n",
      "2    Afghanistan  2010   8.43329048161792   0.892536936                  1.4   \n",
      "3    Afghanistan  2015   1.31004040372002  -1.533846583                  1.5   \n",
      "4    Afghanistan  2016   2.36671191565063   2.169452176                  1.5   \n",
      "..           ...   ...                ...           ...                  ...   \n",
      "810     Zimbabwe  2000  -3.05918962553469   55.86645207                  5.5   \n",
      "811     Zimbabwe  2005   -5.7110838330468   302.1169963                  6.4   \n",
      "812     Zimbabwe  2010   12.5810269716888   3.034478884                  6.1   \n",
      "813     Zimbabwe  2015   1.68959459207842  -2.398709959                  6.0   \n",
      "814     Zimbabwe  2016  0.615713754356918   -1.55978908                  6.0   \n",
      "\n",
      "     Suicide_Rate_Male Human Development Index  \n",
      "0                 10.0                      ..  \n",
      "1                 10.8                   0.408  \n",
      "2                  8.6                   0.463  \n",
      "3                  7.8                   0.493  \n",
      "4                  7.6                   0.494  \n",
      "..                 ...                     ...  \n",
      "810               20.6                   0.440  \n",
      "811               21.7                   0.430  \n",
      "812               18.1                   0.467  \n",
      "813               15.5                   0.529  \n",
      "814               15.7                   0.532  \n",
      "\n",
      "[815 rows x 7 columns]\n"
     ]
    }
   ],
   "source": [
    "%run ./etl_result.ipynb"
   ]
  },
  {
   "cell_type": "code",
   "execution_count": null,
   "metadata": {},
   "outputs": [],
   "source": []
  }
 ],
 "metadata": {
  "kernelspec": {
   "display_name": "Python 3",
   "language": "python",
   "name": "python3"
  },
  "language_info": {
   "codemirror_mode": {
    "name": "ipython",
    "version": 3
   },
   "file_extension": ".py",
   "mimetype": "text/x-python",
   "name": "python",
   "nbconvert_exporter": "python",
   "pygments_lexer": "ipython3",
   "version": "3.7.3"
  }
 },
 "nbformat": 4,
 "nbformat_minor": 2
}
