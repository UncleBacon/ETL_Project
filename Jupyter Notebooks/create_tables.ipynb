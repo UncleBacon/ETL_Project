{
 "cells": [
  {
   "cell_type": "code",
   "execution_count": 58,
   "metadata": {},
   "outputs": [
    {
     "name": "stdout",
     "output_type": "stream",
     "text": [
      "(psycopg2.errors.DuplicateTable) relation \"Human_Development_Index\" already exists\n",
      "\n",
      "[SQL:         \n",
      "                CREATE TABLE \"Human_Development_Index\" (\n",
      "                \"Country\" varchar   NOT NULL,\n",
      "                \"Year\" varchar   NOT NULL,\n",
      "                \"HDI\" float   NOT NULL,\n",
      "                CONSTRAINT \"pk_Human_Development_Index\" PRIMARY KEY (\n",
      "                \"Country\",\"Year\"\n",
      "                    )\n",
      "                );\n",
      "                ]\n",
      "(Background on this error at: http://sqlalche.me/e/f405)\n"
     ]
    }
   ],
   "source": [
    "import psycopg2\n",
    "from config import (ServerName, UserName, Password, port, DataBase)\n",
    "from sqlalchemy import create_engine\n",
    " \n",
    " \n",
    "def create_tables():\n",
    "    \"\"\" create tables in the PostgreSQL database\"\"\"\n",
    "    commands = (\n",
    "                \"\"\"        \n",
    "                CREATE TABLE \"Human_Development_Index\" (\n",
    "                \"Country\" varchar   NOT NULL,\n",
    "                \"Year\" varchar   NOT NULL,\n",
    "                \"HDI\" float   NOT NULL,\n",
    "                CONSTRAINT \"pk_Human_Development_Index\" PRIMARY KEY (\n",
    "                \"Country\",\"Year\"\n",
    "                    )\n",
    "                );\n",
    "                \"\"\",\n",
    "                \"\"\"\n",
    "                CREATE TABLE \"Economic\" (\n",
    "                \"Country\" varchar   NOT NULL,\n",
    "                \"Year\" int   NOT NULL,\n",
    "                \"GDP_growth\" float   NOT NULL,\n",
    "                \"Inflation\" float   NOT NULL,\n",
    "                CONSTRAINT \"pk_Economic\" PRIMARY KEY (\n",
    "                \"Country\",\"Year\"\n",
    "                    )\n",
    "                );\n",
    "                \"\"\",\n",
    "                \"\"\"\n",
    "                CREATE TABLE \"Suicide\" (\n",
    "                \"Country\" varchar   NOT NULL,\n",
    "                \"Year\" int   NOT NULL,\n",
    "                \"Sex\" varchar   NOT NULL,\n",
    "                \"Crude_Suicide_Rate\" float   NOT NULL,\n",
    "                CONSTRAINT \"pk_Suicide\" PRIMARY KEY (\n",
    "                \"Country\",\"Year\"\n",
    "                     )\n",
    "                );\n",
    "        \"\"\")\n",
    "    try:\n",
    "        # connect to the PostgreSQL server\n",
    "        engine = create_engine(f'postgres+psycopg2://{UserName}:{Password}@{ServerName}:{port}/{DataBase}')\n",
    "        conn = engine.connect()\n",
    "        # create table one by one\n",
    "        for command in commands:\n",
    "            trans = conn.begin()\n",
    "            conn.execute(command)\n",
    "            trans.commit()\n",
    "        # Close connection\n",
    "        conn.close()  \n",
    "    except (Exception, psycopg2.DatabaseError) as error:\n",
    "        print(error)\n",
    "  \n",
    "create_tables()"
   ]
  },
  {
   "cell_type": "code",
   "execution_count": null,
   "metadata": {},
   "outputs": [],
   "source": []
  }
 ],
 "metadata": {
  "kernelspec": {
   "display_name": "Python 3",
   "language": "python",
   "name": "python3"
  },
  "language_info": {
   "codemirror_mode": {
    "name": "ipython",
    "version": 3
   },
   "file_extension": ".py",
   "mimetype": "text/x-python",
   "name": "python",
   "nbconvert_exporter": "python",
   "pygments_lexer": "ipython3",
   "version": "3.7.4"
  }
 },
 "nbformat": 4,
 "nbformat_minor": 2
}
