{
 "cells": [
  {
   "cell_type": "markdown",
   "metadata": {},
   "source": [
    "# ETL Project"
   ]
  },
  {
   "cell_type": "markdown",
   "metadata": {},
   "source": [
    "## Create Postgres Database"
   ]
  },
  {
   "cell_type": "markdown",
   "metadata": {},
   "source": [
    "1. - Create a `Postgres` Database with the name `ETL_db`\n",
    "2. - Update the `config.py`file with your connection data to your `Postgres` database\n",
    "3. - Run this `Notebook`only\n",
    "\n",
    "#### Notes:\n",
    "- The code drop the tables in the database `ETL_db` if existed and upload all the information again\n",
    "- No other notebook or code needs to be run"
   ]
  },
  {
   "cell_type": "markdown",
   "metadata": {},
   "source": [
    "## Call the notebook to create the Schema"
   ]
  },
  {
   "cell_type": "code",
   "execution_count": 49,
   "metadata": {},
   "outputs": [
    {
     "name": "stdout",
     "output_type": "stream",
     "text": [
      "The tables: ['Hum_Dev_Ind', 'Economic', 'Suicide'] were created\n"
     ]
    }
   ],
   "source": [
    "%run ./create_tables.ipynb\n",
    "create_tables()"
   ]
  },
  {
   "cell_type": "markdown",
   "metadata": {},
   "source": [
    "## Call the notebooks to consult the csv file and load it to the Database"
   ]
  },
  {
   "cell_type": "markdown",
   "metadata": {},
   "source": [
    "### Human Development Index"
   ]
  },
  {
   "cell_type": "code",
   "execution_count": 50,
   "metadata": {},
   "outputs": [
    {
     "name": "stdout",
     "output_type": "stream",
     "text": [
      "All the human-development-index data was uploaded to the database:\n",
      "        Country  Year human_dev_ind\n",
      "0   Afghanistan  2000            ..\n",
      "1   Afghanistan  2005         0.408\n",
      "2   Afghanistan  2010         0.463\n",
      "3   Afghanistan  2015         0.493\n",
      "4   Afghanistan  2016         0.494\n"
     ]
    }
   ],
   "source": [
    "%run ./human_dev_ind.ipynb"
   ]
  },
  {
   "cell_type": "markdown",
   "metadata": {},
   "source": [
    "### Economic"
   ]
  },
  {
   "cell_type": "code",
   "execution_count": 51,
   "metadata": {},
   "outputs": [
    {
     "name": "stdout",
     "output_type": "stream",
     "text": [
      "All the economic data was uploaded to the database:\n",
      "       Country  Year        GDP growth     Inflation\n",
      "0  Afghanistan  2000                 0             0\n",
      "1  Afghanistan  2005  11.1752702416587   12.68626872\n",
      "2  Afghanistan  2010  8.43329048161792   0.892536936\n",
      "3  Afghanistan  2015  1.31004040372002  -1.533846583\n",
      "4  Afghanistan  2016  2.36671191565063   2.169452176\n"
     ]
    }
   ],
   "source": [
    "%run ./economic.ipynb"
   ]
  },
  {
   "cell_type": "markdown",
   "metadata": {},
   "source": [
    "### Suicide"
   ]
  },
  {
   "cell_type": "code",
   "execution_count": 52,
   "metadata": {},
   "outputs": [
    {
     "name": "stdout",
     "output_type": "stream",
     "text": [
      "All the suicide data was uploaded to the database:\n",
      "       Country  Year  Suicide_Rate_Female  Suicide_Rate_Male\n",
      "0  Afghanistan  2000                  1.0               10.0\n",
      "1  Afghanistan  2005                  1.5               10.8\n",
      "2  Afghanistan  2010                  1.4                8.6\n",
      "3  Afghanistan  2015                  1.5                7.8\n",
      "4  Afghanistan  2016                  1.5                7.6\n"
     ]
    }
   ],
   "source": [
    "%run ./suicide.ipynb"
   ]
  },
  {
   "cell_type": "code",
   "execution_count": null,
   "metadata": {},
   "outputs": [],
   "source": []
  }
 ],
 "metadata": {
  "kernelspec": {
   "display_name": "Python 3",
   "language": "python",
   "name": "python3"
  },
  "language_info": {
   "codemirror_mode": {
    "name": "ipython",
    "version": 3
   },
   "file_extension": ".py",
   "mimetype": "text/x-python",
   "name": "python",
   "nbconvert_exporter": "python",
   "pygments_lexer": "ipython3",
   "version": "3.7.4"
  }
 },
 "nbformat": 4,
 "nbformat_minor": 2
}
